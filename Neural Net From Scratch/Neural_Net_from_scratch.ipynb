{
  "nbformat": 4,
  "nbformat_minor": 0,
  "metadata": {
    "colab": {
      "provenance": [],
      "gpuType": "T4"
    },
    "kernelspec": {
      "name": "python3",
      "display_name": "Python 3"
    },
    "language_info": {
      "name": "python"
    },
    "accelerator": "GPU"
  },
  "cells": [
    {
      "cell_type": "code",
      "source": [
        "from google.colab import drive\n",
        "drive.mount('/content/drive')"
      ],
      "metadata": {
        "colab": {
          "base_uri": "https://localhost:8080/"
        },
        "id": "y9TDBOWoOgbN",
        "outputId": "1bd8569b-56b8-4dfa-d960-751207c6a3b6"
      },
      "execution_count": 235,
      "outputs": [
        {
          "output_type": "stream",
          "name": "stdout",
          "text": [
            "Drive already mounted at /content/drive; to attempt to forcibly remount, call drive.mount(\"/content/drive\", force_remount=True).\n"
          ]
        }
      ]
    },
    {
      "cell_type": "code",
      "execution_count": 236,
      "metadata": {
        "id": "JC6ZGEDv1Cg8"
      },
      "outputs": [],
      "source": [
        "import numpy as np\n",
        "import pandas as pd\n",
        "from matplotlib import pyplot as plt\n",
        "\n",
        "data = pd.read_csv('/content/drive/MyDrive/Neural Net/train.csv')"
      ]
    },
    {
      "cell_type": "code",
      "source": [
        "data.isna().any().any()"
      ],
      "metadata": {
        "colab": {
          "base_uri": "https://localhost:8080/"
        },
        "id": "wEp5DPfcKU2b",
        "outputId": "5d354c1e-726d-41d2-ad40-edb6b83f2ec4"
      },
      "execution_count": 237,
      "outputs": [
        {
          "output_type": "execute_result",
          "data": {
            "text/plain": [
              "False"
            ]
          },
          "metadata": {},
          "execution_count": 237
        }
      ]
    },
    {
      "cell_type": "code",
      "source": [
        "data.shape"
      ],
      "metadata": {
        "colab": {
          "base_uri": "https://localhost:8080/"
        },
        "id": "P27Tm4jtM9IN",
        "outputId": "34d531bb-1ab2-4a4f-e0e8-3b153794e6ec"
      },
      "execution_count": 238,
      "outputs": [
        {
          "output_type": "execute_result",
          "data": {
            "text/plain": [
              "(42000, 785)"
            ]
          },
          "metadata": {},
          "execution_count": 238
        }
      ]
    },
    {
      "cell_type": "code",
      "source": [
        "data = data.dropna()"
      ],
      "metadata": {
        "id": "J0FQPym8FbkQ"
      },
      "execution_count": 239,
      "outputs": []
    },
    {
      "cell_type": "code",
      "source": [
        "data = np.array(data)\n",
        "m, n = data.shape\n",
        "np.random.shuffle(data)"
      ],
      "metadata": {
        "id": "rkSPqlcfLxYd"
      },
      "execution_count": 240,
      "outputs": []
    },
    {
      "cell_type": "code",
      "source": [
        "m, n"
      ],
      "metadata": {
        "colab": {
          "base_uri": "https://localhost:8080/"
        },
        "id": "I_f62_wDLy9v",
        "outputId": "c3c83086-6d1a-4200-e3c7-929959cbcb99"
      },
      "execution_count": 241,
      "outputs": [
        {
          "output_type": "execute_result",
          "data": {
            "text/plain": [
              "(42000, 785)"
            ]
          },
          "metadata": {},
          "execution_count": 241
        }
      ]
    },
    {
      "cell_type": "code",
      "execution_count": 242,
      "metadata": {
        "execution": {
          "iopub.execute_input": "2020-11-24T15:33:48.577955Z",
          "iopub.status.busy": "2020-11-24T15:33:48.576778Z",
          "iopub.status.idle": "2020-11-24T15:33:49.353469Z",
          "shell.execute_reply": "2020-11-24T15:33:49.352724Z"
        },
        "papermill": {
          "duration": 0.795759,
          "end_time": "2020-11-24T15:33:49.353603",
          "exception": false,
          "start_time": "2020-11-24T15:33:48.557844",
          "status": "completed"
        },
        "tags": [],
        "colab": {
          "base_uri": "https://localhost:8080/"
        },
        "id": "O-KL2BQwLElP",
        "outputId": "3ee9a198-62cc-4db0-d09f-dc77d3914b35"
      },
      "outputs": [
        {
          "output_type": "stream",
          "name": "stdout",
          "text": [
            "(785, 1000)\n"
          ]
        }
      ],
      "source": [
        " # shuffle before splitting into dev and training sets\n",
        "\n",
        "data_dev = data[0:1000].T\n",
        "print(data_dev.shape)\n",
        "Y_dev = data_dev[0].astype(np.int32)\n",
        "X_dev = data_dev[1:n]\n",
        "X_dev = X_dev / 255."
      ]
    },
    {
      "cell_type": "code",
      "source": [
        "data_train = data[1000:m].T\n",
        "print(data_train.shape)\n",
        "Y_train = data_train[0].astype(np.int32)\n",
        "X_train = data_train[1:n]\n",
        "X_train = X_train / 255.\n",
        "_,m_train = X_train.shape"
      ],
      "metadata": {
        "colab": {
          "base_uri": "https://localhost:8080/"
        },
        "id": "BMF18NznMG5N",
        "outputId": "95d8be98-3513-49a5-b009-0920730999aa"
      },
      "execution_count": 243,
      "outputs": [
        {
          "output_type": "stream",
          "name": "stdout",
          "text": [
            "(785, 41000)\n"
          ]
        }
      ]
    },
    {
      "cell_type": "code",
      "source": [
        "data_train[0].shape"
      ],
      "metadata": {
        "colab": {
          "base_uri": "https://localhost:8080/"
        },
        "id": "g7IMXo4jMaZk",
        "outputId": "c4489ddb-f15b-4909-c348-e8cc189c9851"
      },
      "execution_count": 244,
      "outputs": [
        {
          "output_type": "execute_result",
          "data": {
            "text/plain": [
              "(41000,)"
            ]
          },
          "metadata": {},
          "execution_count": 244
        }
      ]
    },
    {
      "cell_type": "code",
      "execution_count": 245,
      "metadata": {
        "execution": {
          "iopub.execute_input": "2020-11-24T15:33:49.385574Z",
          "iopub.status.busy": "2020-11-24T15:33:49.384483Z",
          "iopub.status.idle": "2020-11-24T15:33:49.388342Z",
          "shell.execute_reply": "2020-11-24T15:33:49.388923Z"
        },
        "papermill": {
          "duration": 0.023743,
          "end_time": "2020-11-24T15:33:49.389054",
          "exception": false,
          "start_time": "2020-11-24T15:33:49.365311",
          "status": "completed"
        },
        "tags": [],
        "colab": {
          "base_uri": "https://localhost:8080/"
        },
        "id": "A7c_Rh0tLElQ",
        "outputId": "ff8281c3-9b10-4a7f-c7d5-a7adf45c9999"
      },
      "outputs": [
        {
          "output_type": "execute_result",
          "data": {
            "text/plain": [
              "((41000,), (1000,))"
            ]
          },
          "metadata": {},
          "execution_count": 245
        }
      ],
      "source": [
        "Y_train.shape, Y_dev.shape"
      ]
    },
    {
      "cell_type": "code",
      "source": [
        "# Y_train = Y_train.astype(np.int32)"
      ],
      "metadata": {
        "id": "sHCUk70dH4Lc"
      },
      "execution_count": 246,
      "outputs": []
    },
    {
      "cell_type": "code",
      "source": [
        "# W1_new, b1_new, W2_new, b2_new = grad_desc(X_train, Y_train, 0.10, 10)"
      ],
      "metadata": {
        "colab": {
          "base_uri": "https://localhost:8080/"
        },
        "id": "-GB8FyzzTtD4",
        "outputId": "32efce3d-b7ac-4227-98be-dd6e4be761f7"
      },
      "execution_count": 281,
      "outputs": [
        {
          "output_type": "stream",
          "name": "stdout",
          "text": [
            "Iteration:  0\n",
            "[5 7 4 ... 7 4 0] [2 1 5 ... 7 8 7]\n",
            "0.11824390243902438\n"
          ]
        }
      ]
    },
    {
      "cell_type": "code",
      "source": [
        "def relu(Z):\n",
        "  return np.maximum(Z, 0)\n",
        "def softmax(Z):\n",
        "  # e_x = np.exp(Z - np.max(Z))\n",
        "  A = np.exp(Z) / sum(np.exp(Z))\n",
        "  # print(\"Z \", Z.shape)\n",
        "  # print(\"ez\", np.exp(Z).shape, sum(np.exp(Z)).shape )\n",
        "  # print(\"is nan\")\n",
        "  return A"
      ],
      "metadata": {
        "id": "Sa7IN-Gu4vIO"
      },
      "execution_count": 296,
      "outputs": []
    },
    {
      "cell_type": "code",
      "source": [
        "def relu_der(Z):\n",
        "  return Z > 0"
      ],
      "metadata": {
        "id": "VK-RHG5a67ti"
      },
      "execution_count": 297,
      "outputs": []
    },
    {
      "cell_type": "code",
      "source": [
        "def forward_pass(W1, b1, W2, b2, X):\n",
        "  Z1 = W1.dot(X) + b1\n",
        "  A1 = relu(Z1)\n",
        "  Z2 = W2.dot(A1) + b2\n",
        "  A2 = softmax(Z2)\n",
        "  return A1, A2, Z1, Z2"
      ],
      "metadata": {
        "id": "GDfecb6P5O_D"
      },
      "execution_count": 298,
      "outputs": []
    },
    {
      "cell_type": "code",
      "source": [
        "def update(W1, W2, b1, b2, dW1, dW2, db1, db2, alpha):\n",
        "  W1 = W1 - alpha*dW1\n",
        "  b1 = b1 - alpha*db1\n",
        "  W2 = W2 - alpha*dW2\n",
        "  b2 = b2 - alpha*db2\n",
        "  return W1, W2, b1, b2"
      ],
      "metadata": {
        "id": "5Ail1xF15por"
      },
      "execution_count": 299,
      "outputs": []
    },
    {
      "cell_type": "code",
      "source": [
        "def init_params():\n",
        "    W1 = np.random.rand(10, 784) - 0.5\n",
        "    b1 = np.random.rand(10, 1) - 0.5\n",
        "    W2 = np.random.rand(10, 10) - 0.5\n",
        "    b2 = np.random.rand(10, 1) - 0.5\n",
        "    return W1, b1, W2, b2"
      ],
      "metadata": {
        "id": "VEhrsLYX6RiC"
      },
      "execution_count": 300,
      "outputs": []
    },
    {
      "cell_type": "code",
      "source": [
        "def one_hot(Y):\n",
        "  one_hot_Y = np.zeros((Y.size, int(Y.max() + 1)))\n",
        "  # type(Y)\n",
        "  one_hot_Y[np.arange(Y.size), Y] = 1\n",
        "  one_hot_Y = one_hot_Y.T\n",
        "  return one_hot_Y"
      ],
      "metadata": {
        "id": "0T5jPjjJ9hoF"
      },
      "execution_count": 301,
      "outputs": []
    },
    {
      "cell_type": "code",
      "source": [
        "Y_train"
      ],
      "metadata": {
        "colab": {
          "base_uri": "https://localhost:8080/"
        },
        "id": "ZudAgS8gIGnN",
        "outputId": "e811c2e7-dcb5-40b7-97ed-857329b42013"
      },
      "execution_count": 302,
      "outputs": [
        {
          "output_type": "execute_result",
          "data": {
            "text/plain": [
              "array([2, 1, 5, ..., 7, 8, 7], dtype=int32)"
            ]
          },
          "metadata": {},
          "execution_count": 302
        }
      ]
    },
    {
      "cell_type": "code",
      "source": [
        "one_hot(Y_train).shape"
      ],
      "metadata": {
        "colab": {
          "base_uri": "https://localhost:8080/"
        },
        "id": "CiE8jn29B5oz",
        "outputId": "fb6ae6f0-a216-43f8-c336-27317efa535a"
      },
      "execution_count": 303,
      "outputs": [
        {
          "output_type": "execute_result",
          "data": {
            "text/plain": [
              "(10, 41000)"
            ]
          },
          "metadata": {},
          "execution_count": 303
        }
      ]
    },
    {
      "cell_type": "code",
      "source": [
        "def back_pass(A1, A2, W1, W2, Z1, Z2, m, Y, X):\n",
        "  one_hot_Y = one_hot(Y)\n",
        "  dZ2 = A2 - one_hot_Y\n",
        "  dW2 = 1 / m * dZ2.dot(A1.T)\n",
        "  db2 = 1 / m * np.sum(dZ2)\n",
        "  dZ1 = W2.T.dot(dZ2) * relu_der(Z1)\n",
        "  dW1 = 1 / m * dZ1.dot(X.T)\n",
        "  db1 = 1 / m * np.sum(dZ1)\n",
        "  return dW1, db1, dW2, db2"
      ],
      "metadata": {
        "id": "bA2M59H78UH0"
      },
      "execution_count": 304,
      "outputs": []
    },
    {
      "cell_type": "code",
      "source": [
        "def preds(A2):\n",
        "  return np.argmax(A2, axis = 0)\n",
        "def get_accuracy(predictions, Y):\n",
        "  print(predictions, Y)\n",
        "  return np.sum(predictions == Y) / Y.size"
      ],
      "metadata": {
        "id": "WQ0GhJcFCXD6"
      },
      "execution_count": 305,
      "outputs": []
    },
    {
      "cell_type": "code",
      "source": [
        "def grad_desc(X, Y, alpha, iterations, m = m_train):\n",
        "  W1, b1, W2, b2 = init_params()\n",
        "  for i in range(iterations):\n",
        "    A1, A2, Z1, Z2 = forward_pass(W1, b1, W2, b2, X)\n",
        "    dW1, db1, dW2, db2 = back_pass(A1, A2, W1, W2, Z1, Z2, m, Y, X)\n",
        "    W1, W2, b1, b2 = update(W1, W2, b1, b2, dW1, dW2, db1, db2, alpha)\n",
        "    if i % 10 == 0:\n",
        "      print(\"Iteration: \", i)\n",
        "      predictions = preds(A2)\n",
        "      print(get_accuracy(predictions, Y))\n",
        "  return W1, b1, W2, b2"
      ],
      "metadata": {
        "id": "SVkDFJQeC0hP"
      },
      "execution_count": 306,
      "outputs": []
    },
    {
      "cell_type": "code",
      "source": [
        "X_train.shape"
      ],
      "metadata": {
        "colab": {
          "base_uri": "https://localhost:8080/"
        },
        "id": "OAOSgpoKEC5a",
        "outputId": "8cdda5de-c6be-40c7-a910-8912b47acba7"
      },
      "execution_count": 307,
      "outputs": [
        {
          "output_type": "execute_result",
          "data": {
            "text/plain": [
              "(784, 41000)"
            ]
          },
          "metadata": {},
          "execution_count": 307
        }
      ]
    },
    {
      "cell_type": "code",
      "source": [
        "Y_train.shape"
      ],
      "metadata": {
        "colab": {
          "base_uri": "https://localhost:8080/"
        },
        "id": "jS_y0mxaHcNd",
        "outputId": "09b1ae5f-d780-449d-e500-498015d74e1b"
      },
      "execution_count": 308,
      "outputs": [
        {
          "output_type": "execute_result",
          "data": {
            "text/plain": [
              "(41000,)"
            ]
          },
          "metadata": {},
          "execution_count": 308
        }
      ]
    },
    {
      "cell_type": "code",
      "source": [
        "W1, b1, W2, b2 = grad_desc(X_train, Y_train, 0.10, 500)"
      ],
      "metadata": {
        "colab": {
          "base_uri": "https://localhost:8080/"
        },
        "id": "LuFRt8HPDpoC",
        "outputId": "a29a4d5d-6ccc-4e58-a179-2788228ff43a"
      },
      "execution_count": null,
      "outputs": [
        {
          "output_type": "stream",
          "name": "stdout",
          "text": [
            "Iteration:  0\n",
            "[5 7 5 ... 5 7 7] [2 1 5 ... 7 8 7]\n",
            "0.1363658536585366\n",
            "Iteration:  10\n",
            "[2 5 5 ... 8 8 7] [2 1 5 ... 7 8 7]\n",
            "0.21578048780487805\n",
            "Iteration:  20\n",
            "[2 2 3 ... 7 3 7] [2 1 5 ... 7 8 7]\n",
            "0.2531219512195122\n",
            "Iteration:  30\n",
            "[2 2 2 ... 7 3 7] [2 1 5 ... 7 8 7]\n",
            "0.2945609756097561\n",
            "Iteration:  40\n",
            "[2 1 2 ... 7 3 7] [2 1 5 ... 7 8 7]\n",
            "0.33490243902439026\n",
            "Iteration:  50\n",
            "[2 1 2 ... 7 3 7] [2 1 5 ... 7 8 7]\n",
            "0.3732439024390244\n",
            "Iteration:  60\n",
            "[2 1 2 ... 7 3 7] [2 1 5 ... 7 8 7]\n",
            "0.4113414634146341\n",
            "Iteration:  70\n",
            "[2 1 2 ... 7 3 7] [2 1 5 ... 7 8 7]\n",
            "0.4502926829268293\n",
            "Iteration:  80\n",
            "[2 1 2 ... 7 8 7] [2 1 5 ... 7 8 7]\n",
            "0.4848292682926829\n",
            "Iteration:  90\n",
            "[2 1 2 ... 7 8 7] [2 1 5 ... 7 8 7]\n",
            "0.5135853658536585\n",
            "Iteration:  100\n",
            "[2 1 2 ... 7 8 7] [2 1 5 ... 7 8 7]\n",
            "0.5397560975609756\n",
            "Iteration:  110\n",
            "[2 1 2 ... 7 8 7] [2 1 5 ... 7 8 7]\n",
            "0.5646585365853658\n",
            "Iteration:  120\n",
            "[2 1 2 ... 7 8 7] [2 1 5 ... 7 8 7]\n",
            "0.5858048780487805\n",
            "Iteration:  130\n",
            "[2 1 2 ... 7 8 7] [2 1 5 ... 7 8 7]\n",
            "0.6071219512195122\n",
            "Iteration:  140\n",
            "[6 1 5 ... 7 8 7] [2 1 5 ... 7 8 7]\n",
            "0.6259268292682927\n",
            "Iteration:  150\n",
            "[6 1 5 ... 7 8 7] [2 1 5 ... 7 8 7]\n",
            "0.6437804878048781\n",
            "Iteration:  160\n",
            "[6 1 5 ... 7 8 7] [2 1 5 ... 7 8 7]\n",
            "0.6586829268292683\n",
            "Iteration:  170\n",
            "[6 1 5 ... 7 8 7] [2 1 5 ... 7 8 7]\n",
            "0.6713414634146342\n",
            "Iteration:  180\n",
            "[6 1 5 ... 7 8 7] [2 1 5 ... 7 8 7]\n",
            "0.6819268292682927\n",
            "Iteration:  190\n",
            "[6 1 5 ... 7 8 7] [2 1 5 ... 7 8 7]\n",
            "0.6919756097560975\n",
            "Iteration:  200\n",
            "[6 1 5 ... 7 8 7] [2 1 5 ... 7 8 7]\n",
            "0.7001951219512195\n"
          ]
        }
      ]
    },
    {
      "cell_type": "code",
      "source": [],
      "metadata": {
        "id": "CL4DdojoO3Pt"
      },
      "execution_count": null,
      "outputs": []
    }
  ]
}