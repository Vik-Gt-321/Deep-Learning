{
  "nbformat": 4,
  "nbformat_minor": 0,
  "metadata": {
    "colab": {
      "provenance": [],
      "gpuType": "T4"
    },
    "kernelspec": {
      "name": "python3",
      "display_name": "Python 3"
    },
    "language_info": {
      "name": "python"
    },
    "accelerator": "GPU"
  },
  "cells": [
    {
      "cell_type": "markdown",
      "source": [
        "#Data Manipulation"
      ],
      "metadata": {
        "id": "lgzCRIED_eXy"
      }
    },
    {
      "cell_type": "code",
      "execution_count": 1,
      "metadata": {
        "id": "6a9GtoBAX8dH"
      },
      "outputs": [],
      "source": [
        "!wget -q https://github.com/jbrownlee/Datasets/releases/download/Flickr8k/Flickr8k_Dataset.zip\n",
        "!wget -q https://github.com/jbrownlee/Datasets/releases/download/Flickr8k/Flickr8k_text.zip\n",
        "!unzip -qq Flickr8k_Dataset.zip\n",
        "!unzip -qq Flickr8k_text.zip\n",
        "!rm Flickr8k_Dataset.zip Flickr8k_text.zip"
      ]
    },
    {
      "cell_type": "code",
      "source": [
        "def load_captions (filename):\n",
        "  with open(filename, \"r\") as fp:\n",
        "    # Read all text in the file\n",
        "    text = fp.read()\n",
        "    return (text)"
      ],
      "metadata": {
        "id": "E5m3qyjE9pqH"
      },
      "execution_count": 2,
      "outputs": []
    },
    {
      "cell_type": "code",
      "source": [
        "def captions_dict (text):\n",
        "  dict = {}\n",
        "  \n",
        "  # Make a List of each line in the file\n",
        "  lines = text.split ('\\n')\n",
        "  for line in lines:\n",
        "    # print(line)\n",
        "    # Split into the <image_data> and <caption>\n",
        "    line_split = line.split ('\\t')\n",
        "    # print(line_split)\n",
        "    if (len(line_split) != 2):\n",
        "      # print(line)\n",
        "      # print(line_split)\n",
        "      # print(\"inside if lenlinesplit\")\n",
        "      # Added this check because dataset contains some blank lines\n",
        "      continue\n",
        "    else:\n",
        "      image_data, caption = line_split\n",
        "\n",
        "    # Split into <image_file> and <caption_idx>\n",
        "    image_file, caption_idx = image_data.split ('#')\n",
        "    # Split the <image_file> into <image_name>.jpg\n",
        "    image_name = image_file.split ('.')[0]\n",
        "    \n",
        "    # If this is the first caption for this image, create a new list for that\n",
        "    # image and add the caption to it. Otherwise append the caption to the \n",
        "    # existing list\n",
        "    if (int(caption_idx) == 0):\n",
        "      dict [image_name] = [caption]\n",
        "    else:\n",
        "      dict [image_name].append (caption)\n",
        "  \n",
        "  return (dict)"
      ],
      "metadata": {
        "id": "jQB4uKLS9utD"
      },
      "execution_count": 3,
      "outputs": []
    },
    {
      "cell_type": "code",
      "source": [
        "caption_file = \"/content/Flickr8k.token.txt\"\n",
        "doc = load_captions (caption_file)\n",
        "image_dict = captions_dict (doc)"
      ],
      "metadata": {
        "id": "YBQLsxrf9w5R"
      },
      "execution_count": 4,
      "outputs": []
    },
    {
      "cell_type": "markdown",
      "source": [
        "## Image Features"
      ],
      "metadata": {
        "id": "eRw69u31_oec"
      }
    },
    {
      "cell_type": "code",
      "source": [
        "def subset_image_name (filename):\n",
        "  data = []\n",
        "  \n",
        "  with open(filename, \"r\") as fp:\n",
        "    # Read all text in the file\n",
        "    text = fp.read()\n",
        "    # print(text)\n",
        "    # Make a List of each line in the file\n",
        "    lines = text.split ('\\n')\n",
        "    for line in lines:\n",
        "      # skip empty lines\n",
        "      if (len(line) < 1):\n",
        "        continue\n",
        "      \n",
        "      # Each line is the <image_file>\n",
        "      # Split the <image_file> into <image_name>.jpg\n",
        "      image_name = line.split ('.')[0]\n",
        "      \n",
        "      # Add the <image_name> to the list\n",
        "      data.append (image_name)\n",
        "\n",
        "    return (set(data)) "
      ],
      "metadata": {
        "id": "uTPxNagO91Dg"
      },
      "execution_count": 5,
      "outputs": []
    },
    {
      "cell_type": "code",
      "source": [
        "training_image_name_file = \"/content/Flickr_8k.trainImages.txt\"\n",
        "training_image_names = subset_image_name (training_image_name_file)"
      ],
      "metadata": {
        "id": "urZZye0l93nP"
      },
      "execution_count": 6,
      "outputs": []
    },
    {
      "cell_type": "code",
      "source": [
        "import numpy as np\n",
        "import tensorflow as tf\n",
        "\n",
        "def load_image(image_path):\n",
        "    img = tf.io.read_file(image_path)\n",
        "    img = tf.image.decode_jpeg(img, channels=3)\n",
        "    img = tf.image.resize(img, (299, 299))\n",
        "    img = tf.keras.applications.inception_v3.preprocess_input(img)\n",
        "    return img, image_path"
      ],
      "metadata": {
        "id": "6cDN2pEU95fT"
      },
      "execution_count": 7,
      "outputs": []
    },
    {
      "cell_type": "code",
      "source": [
        "image_model = tf.keras.applications.InceptionV3(include_top=False,\n",
        "                                                weights='imagenet')\n",
        "new_input = image_model.input\n",
        "hidden_layer = image_model.layers[-1].output\n",
        "\n",
        "image_features_extract_model = tf.keras.Model(new_input, hidden_layer)\n",
        "\n",
        "from tqdm import tqdm\n",
        "\n",
        "image_dir = \"/content/Flicker8k_Dataset/\"\n",
        "training_image_paths = [image_dir + name + '.jpg' for name in training_image_names]\n",
        "\n",
        "# Get unique images\n",
        "encode_train = sorted(set(training_image_paths))\n",
        "# print(encode_train)\n",
        "# Feel free to change batch_size according to your system configuration\n",
        "image_dataset = tf.data.Dataset.from_tensor_slices(encode_train)\n",
        "image_dataset = image_dataset.map(\n",
        "  load_image, num_parallel_calls=tf.data.experimental.AUTOTUNE).batch(16)"
      ],
      "metadata": {
        "colab": {
          "base_uri": "https://localhost:8080/"
        },
        "id": "6wNPTYQK-Hvs",
        "outputId": "794ca7b6-9986-4ca4-ef4b-56853560ffe7"
      },
      "execution_count": 8,
      "outputs": [
        {
          "output_type": "stream",
          "name": "stdout",
          "text": [
            "Downloading data from https://storage.googleapis.com/tensorflow/keras-applications/inception_v3/inception_v3_weights_tf_dim_ordering_tf_kernels_notop.h5\n",
            "87910968/87910968 [==============================] - 1s 0us/step\n"
          ]
        }
      ]
    },
    {
      "cell_type": "code",
      "source": [
        "for img, path in tqdm(image_dataset):\n",
        "  batch_features = image_features_extract_model(img)\n",
        "  # print(batch_features.shape)\n",
        "  batch_features = tf.reshape(batch_features,\n",
        "                              (batch_features.shape[0], -1, batch_features.shape[3]))\n",
        "\n",
        "  for bf, p in zip(batch_features, path):\n",
        "    path_of_feature = p.numpy().decode(\"utf-8\")\n",
        "    np.save(path_of_feature, bf.numpy())"
      ],
      "metadata": {
        "colab": {
          "base_uri": "https://localhost:8080/"
        },
        "id": "l7mum4U--JaF",
        "outputId": "ef00df1b-771b-41a5-d69b-dc2d3f90ef24"
      },
      "execution_count": 9,
      "outputs": [
        {
          "output_type": "stream",
          "name": "stderr",
          "text": [
            "100%|██████████| 375/375 [02:22<00:00,  2.64it/s]\n"
          ]
        }
      ]
    },
    {
      "cell_type": "markdown",
      "source": [
        "## Text Vectorization"
      ],
      "metadata": {
        "id": "sjxE95sb_sMZ"
      }
    },
    {
      "cell_type": "code",
      "source": [
        "from tensorflow.keras.preprocessing.text import Tokenizer\n",
        "from tensorflow.keras.preprocessing.sequence import pad_sequences\n",
        "import re\n",
        "\n",
        "def captions_clean (image_dict):\n",
        "  # <key> is the image_name, which can be ignored\n",
        "  for key, captions in image_dict.items():\n",
        "    \n",
        "    # Loop through each caption for this image\n",
        "    for i, caption in enumerate (captions):\n",
        "      \n",
        "      # Convert the caption to lowercase, and then remove all special characters from it\n",
        "      caption_nopunct = re.sub(r\"[^a-zA-Z0-9]+\", ' ', caption.lower())\n",
        "      \n",
        "      # Split the caption into separate words, and collect all words which are more than \n",
        "      # one character and which contain only alphabets (ie. discard words with mixed alpha-numerics)\n",
        "      clean_words = [word for word in caption_nopunct.split() if ((len(word) > 1) and (word.isalpha()))]\n",
        "      \n",
        "      # Join those words into a string\n",
        "      caption_new = ' '.join(clean_words)\n",
        "      \n",
        "      # Replace the old caption in the captions list with this new cleaned caption\n",
        "      captions[i] = caption_new"
      ],
      "metadata": {
        "id": "jGcpC3cn-Luw"
      },
      "execution_count": 10,
      "outputs": []
    },
    {
      "cell_type": "code",
      "source": [
        "def add_token (captions):\n",
        "  for i, caption in enumerate (captions):\n",
        "    captions[i] = 'startseq ' + caption + ' endseq'\n",
        "  return (captions)\n",
        "\n",
        "def subset_data_dict (image_dict, image_names):\n",
        "  dict = { image_name:add_token(captions) for image_name,captions in image_dict.items() if image_name in image_names}\n",
        "  return (dict)\n",
        "\n",
        "# Flat list of all captions\n",
        "def all_captions (data_dict):\n",
        "  return ([caption for key, captions in data_dict.items() for caption in captions])\n",
        "\n",
        "def max_caption_length(captions):\n",
        "  return max(len(caption.split()) for caption in captions)\n",
        "\n",
        "def pad_text (text, max_length): \n",
        "  text = pad_sequences([text], maxlen=max_length, padding='post')[0]\n",
        "  # print(text)\n",
        "  return (text)"
      ],
      "metadata": {
        "id": "TSvq0yIR-S0q"
      },
      "execution_count": 11,
      "outputs": []
    },
    {
      "cell_type": "code",
      "source": [
        "def create_tokenizer(data_dict):\n",
        "  captions = all_captions(data_dict)\n",
        "  max_caption_words = max_caption_length(captions)\n",
        "  \n",
        "  # Initialise a Keras Tokenizer\n",
        "  tokenizer = Tokenizer()\n",
        "  \n",
        "  # Fit it on the captions so that it prepares a vocabulary of all words\n",
        "  tokenizer.fit_on_texts(captions)\n",
        "  \n",
        "  # Get the size of the vocabulary\n",
        "  vocab_size = len(tokenizer.word_index) + 1\n",
        "\n",
        "  return (tokenizer, vocab_size, max_caption_words)"
      ],
      "metadata": {
        "id": "hSkHuu8--fQR"
      },
      "execution_count": 12,
      "outputs": []
    },
    {
      "cell_type": "code",
      "source": [
        "captions_clean (image_dict)\n",
        "training_dict = subset_data_dict (image_dict, training_image_names)\n",
        "\n",
        "# Prepare tokenizer\n",
        "tokenizer, vocab_size, max_caption_words = create_tokenizer(training_dict)"
      ],
      "metadata": {
        "id": "CevVBmvB-hGf"
      },
      "execution_count": 13,
      "outputs": []
    },
    {
      "cell_type": "markdown",
      "source": [
        "##Train Data"
      ],
      "metadata": {
        "id": "4sJNnk-1_xNM"
      }
    },
    {
      "cell_type": "code",
      "source": [
        "def data_prep(data_dict, tokenizer, max_length, vocab_size):\n",
        "  X, y = list(), list()\n",
        "\n",
        "  # For each image and list of captions\n",
        "  for image_name, captions in data_dict.items():\n",
        "    image_name = image_dir + image_name + '.jpg'\n",
        "\n",
        "    # For each caption in the list of captions\n",
        "    for caption in captions:\n",
        "\n",
        "      # Convert the caption words into a list of word indices\n",
        "      word_idxs = tokenizer.texts_to_sequences([caption])[0]\n",
        "\n",
        "      # Pad the input text to the same fixed length\n",
        "      pad_idxs = pad_text(word_idxs, max_length)\n",
        "          \n",
        "      X.append(image_name)\n",
        "      y.append(pad_idxs)\n",
        "  \n",
        "  return np.array(X), np.array(y)"
      ],
      "metadata": {
        "id": "5tC24McN-jOy"
      },
      "execution_count": 14,
      "outputs": []
    },
    {
      "cell_type": "code",
      "source": [
        "train_X, train_y = data_prep(training_dict, tokenizer, max_caption_words, vocab_size)"
      ],
      "metadata": {
        "id": "2mWPr73d-mry"
      },
      "execution_count": 15,
      "outputs": []
    },
    {
      "cell_type": "code",
      "source": [
        "BATCH_SIZE = 64\n",
        "BUFFER_SIZE = 1000\n",
        "\n",
        "# Load the numpy files\n",
        "def map_func(img_name, cap):\n",
        "  #  print(img_name.decode('utf-8'))\n",
        "   img_tensor = np.load(img_name.decode('utf-8') + '.npy')\n",
        "   return img_tensor, cap\n",
        "\n",
        "dataset = tf.data.Dataset.from_tensor_slices((train_X, train_y))\n",
        "\n",
        "# Use map to load the numpy files in parallel\n",
        "dataset = dataset.map(lambda item1, item2: tf.numpy_function(map_func, [item1, item2], [tf.float32, tf.int32]),num_parallel_calls=tf.data.experimental.AUTOTUNE)\n",
        "\n",
        "# Shuffle and batch\n",
        "dataset = dataset.shuffle(BUFFER_SIZE).batch(BATCH_SIZE)\n",
        "dataset = dataset.prefetch(buffer_size=tf.data.experimental.AUTOTUNE)"
      ],
      "metadata": {
        "id": "wxitXWt4-oVR"
      },
      "execution_count": 16,
      "outputs": []
    },
    {
      "cell_type": "markdown",
      "source": [
        "# Model"
      ],
      "metadata": {
        "id": "lM7dNp4P_5Pm"
      }
    },
    {
      "cell_type": "markdown",
      "source": [
        "## Attention "
      ],
      "metadata": {
        "id": "CJAYc3eO_6vb"
      }
    },
    {
      "cell_type": "code",
      "source": [
        "class BahdanauAttention(tf.keras.Model):\n",
        "  def __init__(self, units):\n",
        "    super(BahdanauAttention, self).__init__()\n",
        "    self.W1 = tf.keras.layers.Dense(units)\n",
        "    self.W2 = tf.keras.layers.Dense(units)\n",
        "    self.V = tf.keras.layers.Dense(1)\n",
        "\n",
        "  def call(self, features, hidden):\n",
        "    # features(CNN_encoder output) shape == (batch_size, 64, embedding_dim)\n",
        "\n",
        "    # hidden shape == (batch_size, hidden_size)\n",
        "    # hidden_with_time_axis shape == (batch_size, 1, hidden_size)\n",
        "    hidden_with_time_axis = tf.expand_dims(hidden, 1)\n",
        "\n",
        "    # attention_hidden_layer shape == (batch_size, 64, units)\n",
        "    attention_hidden_layer = (tf.nn.tanh(self.W1(features) +\n",
        "                                         self.W2(hidden_with_time_axis)))\n",
        "\n",
        "    # score shape == (batch_size, 64, 1)\n",
        "    # This gives you an unnormalized score for each image feature.\n",
        "    score = self.V(attention_hidden_layer)\n",
        "\n",
        "    # attention_weights shape == (batch_size, 64, 1)\n",
        "    attention_weights = tf.nn.softmax(score, axis=1)\n",
        "\n",
        "    # context_vector shape after sum == (batch_size, hidden_size)\n",
        "    context_vector = attention_weights * features\n",
        "    context_vector = tf.reduce_sum(context_vector, axis=1)\n",
        "\n",
        "    return context_vector, attention_weights"
      ],
      "metadata": {
        "id": "usAOZwgc-tfo"
      },
      "execution_count": 17,
      "outputs": []
    },
    {
      "cell_type": "markdown",
      "source": [
        "## Encoder"
      ],
      "metadata": {
        "id": "WWahKcCw__bJ"
      }
    },
    {
      "cell_type": "code",
      "source": [
        "class CNN_Encoder(tf.keras.Model):\n",
        "    # Since you have already extracted the features and dumped it\n",
        "    # This encoder passes those features through a Fully connected layer\n",
        "    def __init__(self, embedding_dim):\n",
        "        super(CNN_Encoder, self).__init__()\n",
        "        # shape after fc == (batch_size, 64, embedding_dim)\n",
        "        self.fc = tf.keras.layers.Dense(embedding_dim)\n",
        "\n",
        "    def call(self, x):\n",
        "        x = self.fc(x)\n",
        "        x = tf.nn.relu(x)\n",
        "        return x"
      ],
      "metadata": {
        "id": "_ATBiTfw-yhU"
      },
      "execution_count": 18,
      "outputs": []
    },
    {
      "cell_type": "markdown",
      "source": [
        "## Decoder"
      ],
      "metadata": {
        "id": "RBghkAIpABki"
      }
    },
    {
      "cell_type": "code",
      "source": [
        "class RNN_Decoder(tf.keras.Model):\n",
        "  def __init__(self, embedding_dim, units, vocab_size):\n",
        "    super(RNN_Decoder, self).__init__()\n",
        "    self.units = units\n",
        "\n",
        "    self.embedding = tf.keras.layers.Embedding(vocab_size, embedding_dim)\n",
        "    self.gru = tf.keras.layers.GRU(self.units,\n",
        "                                   return_sequences=True,\n",
        "                                   return_state=True,\n",
        "                                   recurrent_initializer='glorot_uniform')\n",
        "    self.fc1 = tf.keras.layers.Dense(self.units)\n",
        "    self.fc2 = tf.keras.layers.Dense(vocab_size)\n",
        "\n",
        "    self.attention = BahdanauAttention(self.units)\n",
        "\n",
        "  def call(self, x, features, hidden):\n",
        "    # defining attention as a separate model\n",
        "    context_vector, attention_weights = self.attention(features, hidden)\n",
        "\n",
        "    # x shape after passing through embedding == (batch_size, 1, embedding_dim)\n",
        "    x = self.embedding(x)\n",
        "\n",
        "    # x shape after concatenation == (batch_size, 1, embedding_dim + hidden_size)\n",
        "    x = tf.concat([tf.expand_dims(context_vector, 1), x], axis=-1)\n",
        "\n",
        "    # passing the concatenated vector to the GRU\n",
        "    output, state = self.gru(x)\n",
        "\n",
        "    # shape == (batch_size, max_length, hidden_size)\n",
        "    x = self.fc1(output)\n",
        "\n",
        "    # x shape == (batch_size * max_length, hidden_size)\n",
        "    x = tf.reshape(x, (-1, x.shape[2]))\n",
        "\n",
        "    # output shape == (batch_size * max_length, vocab)\n",
        "    x = self.fc2(x)\n",
        "\n",
        "    return x, state, attention_weights\n",
        "\n",
        "  def reset_state(self, batch_size):\n",
        "    return tf.zeros((batch_size, self.units))"
      ],
      "metadata": {
        "id": "xuvkuvlL-0gV"
      },
      "execution_count": 19,
      "outputs": []
    },
    {
      "cell_type": "markdown",
      "source": [
        "# Training"
      ],
      "metadata": {
        "id": "j0kDmPCeAEcs"
      }
    },
    {
      "cell_type": "markdown",
      "source": [
        "## Complete model and loss definition"
      ],
      "metadata": {
        "id": "QC1b2I_hAJmA"
      }
    },
    {
      "cell_type": "code",
      "source": [
        "embedding_dim = 256\n",
        "units = 512\n",
        "vocab_size = vocab_size\n",
        "num_steps = len(train_X) // BATCH_SIZE\n",
        "# Shape of the vector extracted from InceptionV3 is (64, 2048)\n",
        "# These two variables represent that vector shape\n",
        "features_shape = 2048\n",
        "attention_features_shape = 64\n",
        "# with strategy.scope():\n",
        "\n",
        "encoder = CNN_Encoder(embedding_dim)\n",
        "decoder = RNN_Decoder(embedding_dim, units, vocab_size)\n",
        "\n",
        "optimizer = tf.keras.optimizers.Adam()\n",
        "loss_object = tf.keras.losses.SparseCategoricalCrossentropy(\n",
        "    from_logits=True, reduction='none')\n",
        "\n",
        "def loss_function(real, pred):\n",
        "  mask = tf.math.logical_not(tf.math.equal(real, 0))\n",
        "  loss_ = loss_object(real, pred)\n",
        "\n",
        "  mask = tf.cast(mask, dtype=loss_.dtype)\n",
        "  loss_ *= mask\n",
        "\n",
        "  return tf.reduce_mean(loss_)\n",
        "\n",
        "loss_plot = []"
      ],
      "metadata": {
        "id": "Qel3nKbF-6R-"
      },
      "execution_count": 20,
      "outputs": []
    },
    {
      "cell_type": "markdown",
      "source": [
        "## Train step"
      ],
      "metadata": {
        "id": "USLwSiDVAWSn"
      }
    },
    {
      "cell_type": "code",
      "source": [
        "@tf.function\n",
        "def train_step(img_tensor, target):\n",
        "  loss = 0\n",
        "\n",
        "  # initializing the hidden state for each batch\n",
        "  # because the captions are not related from image to image\n",
        "  hidden = decoder.reset_state(batch_size=target.shape[0])\n",
        "\n",
        "  dec_input = tf.expand_dims([tokenizer.word_index['startseq']] * target.shape[0], 1)\n",
        "\n",
        "  with tf.GradientTape() as tape:\n",
        "      features = encoder(img_tensor)\n",
        "\n",
        "      for i in range(1, target.shape[1]):\n",
        "          # passing the features through the decoder\n",
        "          predictions, hidden, _ = decoder(dec_input, features, hidden)\n",
        "\n",
        "          loss += loss_function(target[:, i], predictions)\n",
        "\n",
        "          # using teacher forcing\n",
        "          dec_input = tf.expand_dims(target[:, i], 1)\n",
        "\n",
        "  total_loss = (loss / int(target.shape[1]))\n",
        "\n",
        "  trainable_variables = encoder.trainable_variables + decoder.trainable_variables\n",
        "\n",
        "  gradients = tape.gradient(loss, trainable_variables)\n",
        "\n",
        "  optimizer.apply_gradients(zip(gradients, trainable_variables))\n",
        "\n",
        "  return loss, total_loss"
      ],
      "metadata": {
        "id": "H9wFWpzD-_7H"
      },
      "execution_count": 21,
      "outputs": []
    },
    {
      "cell_type": "markdown",
      "source": [
        "## Complete training"
      ],
      "metadata": {
        "id": "Q61ol6NyAtaY"
      }
    },
    {
      "cell_type": "code",
      "source": [
        "import time, os\n",
        "start_epoch = 0\n",
        "EPOCHS = 2\n",
        "checkpoint_dir = '/content/drive/MyDrive/IC/checkpoints'\n",
        "checkpoint_prefix = os.path.join(checkpoint_dir, \"ckpt\")\n",
        "checkpoint = tf.train.Checkpoint(encoder=encoder,\n",
        "                                 decoder=decoder,\n",
        "                                 optimizer=optimizer)\n",
        "\n",
        "# Create a checkpoint manager\n",
        "checkpoint_manager = tf.train.CheckpointManager(checkpoint, checkpoint_dir, max_to_keep=5)\n",
        "\n",
        "# Load the latest checkpoint if it exists\n",
        "latest_checkpoint = checkpoint_manager.latest_checkpoint\n",
        "if latest_checkpoint:\n",
        "    checkpoint.restore(latest_checkpoint)\n",
        "    print(\"Loaded saved checkpoint:\", latest_checkpoint)\n",
        "\n",
        "# latest_checkpoint = tf.train.latest_checkpoint(checkpoint_dir)\n",
        "# if latest_checkpoint:\n",
        "#     encoder.load_weights(latest_checkpoint)\n",
        "#     decoder.load_weights(latest_checkpoint)\n",
        "#     print(\"Loaded saved weights.\")\n",
        "\n",
        "for epoch in range(start_epoch, EPOCHS):\n",
        "    start = time.time()\n",
        "    total_loss = 0\n",
        "\n",
        "    for (batch, (img_tensor, target)) in enumerate(dataset):\n",
        "        batch_loss, t_loss = train_step(img_tensor, target)\n",
        "        total_loss += t_loss\n",
        "\n",
        "        if batch % 100 == 0:\n",
        "            average_batch_loss = batch_loss.numpy()/int(target.shape[1])\n",
        "            print(f'Epoch {epoch+1} Batch {batch} Loss {average_batch_loss:.4f}')\n",
        "    # storing the epoch end loss value to plot later\n",
        "    # checkpoint_callback.on_epoch_end(epoch+1, logs={'loss': total_loss/num_steps})\n",
        "    checkpoint_manager.save()\n",
        "    loss_plot.append(total_loss / num_steps)\n",
        "\n",
        "    print(f'Epoch {epoch+1} Loss {total_loss/num_steps:.6f}')\n",
        "    print(f'Time taken for 1 epoch {time.time()-start:.2f} sec\\n')"
      ],
      "metadata": {
        "colab": {
          "base_uri": "https://localhost:8080/"
        },
        "id": "HdqosKDZ_Fk6",
        "outputId": "57609a5c-1268-4e35-db06-cd85465f8214"
      },
      "execution_count": 50,
      "outputs": [
        {
          "output_type": "stream",
          "name": "stdout",
          "text": [
            "Loaded saved checkpoint: /content/checkpoints/ckpt-2\n",
            "Epoch 1 Batch 0 Loss 0.2079\n",
            "Epoch 1 Batch 100 Loss 0.1925\n",
            "Epoch 1 Batch 200 Loss 0.1968\n",
            "Epoch 1 Batch 300 Loss 0.1766\n",
            "Epoch 1 Batch 400 Loss 0.1887\n",
            "Epoch 1 Loss 0.182321\n",
            "Time taken for 1 epoch 62.86 sec\n",
            "\n",
            "Epoch 2 Batch 0 Loss 0.1967\n",
            "Epoch 2 Batch 100 Loss 0.1995\n",
            "Epoch 2 Batch 200 Loss 0.1689\n",
            "Epoch 2 Batch 300 Loss 0.1893\n",
            "Epoch 2 Batch 400 Loss 0.1624\n",
            "Epoch 2 Loss 0.180912\n",
            "Time taken for 1 epoch 61.63 sec\n",
            "\n"
          ]
        }
      ]
    },
    {
      "cell_type": "code",
      "source": [
        "from google.colab import drive\n",
        "drive.mount('/content/drive')"
      ],
      "metadata": {
        "colab": {
          "base_uri": "https://localhost:8080/"
        },
        "id": "uOsgBBBZRuXp",
        "outputId": "9f954e9d-52eb-458d-92c1-569f769e2147"
      },
      "execution_count": 51,
      "outputs": [
        {
          "output_type": "stream",
          "name": "stdout",
          "text": [
            "Mounted at /content/drive\n"
          ]
        }
      ]
    },
    {
      "cell_type": "markdown",
      "source": [
        "Epoch 1 Batch 0 Loss 0.9486\n",
        "Epoch 1 Batch 100 Loss 0.9872\n",
        "Epoch 1 Batch 200 Loss 0.9284\n",
        "Epoch 1 Batch 300 Loss 0.8167\n",
        "Epoch 1 Batch 400 Loss 0.9172\n",
        "Epoch 1 Loss 0.900413\n",
        "Time taken for 1 epoch 59.58 sec\n",
        "\n",
        "Epoch 2 Batch 0 Loss 0.8500\n",
        "Epoch 2 Batch 100 Loss 0.8268\n",
        "Epoch 2 Batch 200 Loss 0.8108\n",
        "Epoch 2 Batch 300 Loss 0.7653\n",
        "Epoch 2 Batch 400 Loss 0.8474\n",
        "Epoch 2 Loss 0.836805\n",
        "Time taken for 1 epoch 60.86 sec\n",
        "\n",
        "Epoch 3 Batch 0 Loss 0.8057\n",
        "Epoch 3 Batch 100 Loss 0.7710\n",
        "Epoch 3 Batch 200 Loss 0.7945\n",
        "Epoch 3 Batch 300 Loss 0.7683\n",
        "Epoch 3 Batch 400 Loss 0.8570\n",
        "Epoch 3 Loss 0.782567\n",
        "Time taken for 1 epoch 61.15 sec\n",
        "\n",
        "Epoch 4 Batch 0 Loss 0.8028\n",
        "Epoch 4 Batch 100 Loss 0.6823\n",
        "Epoch 4 Batch 200 Loss 0.7681\n",
        "Epoch 4 Batch 300 Loss 0.6897\n",
        "Epoch 4 Batch 400 Loss 0.6943\n",
        "Epoch 4 Loss 0.737089\n",
        "Time taken for 1 epoch 59.19 sec\n",
        "\n",
        "Epoch 5 Batch 0 Loss 0.7225\n",
        "Epoch 5 Batch 100 Loss 0.6603\n",
        "Epoch 5 Batch 200 Loss 0.7345\n",
        "Epoch 5 Batch 300 Loss 0.7053\n",
        "Epoch 5 Batch 400 Loss 0.6637\n",
        "Epoch 5 Loss 0.694869\n",
        "Time taken for 1 epoch 58.96 sec\n",
        "\n",
        "Epoch 6 Batch 0 Loss 0.6680\n",
        "Epoch 6 Batch 100 Loss 0.6572\n",
        "Epoch 6 Batch 200 Loss 0.6973\n",
        "Epoch 6 Batch 300 Loss 0.6013\n",
        "Epoch 6 Batch 400 Loss 0.7142\n",
        "Epoch 6 Loss 0.656540\n",
        "Time taken for 1 epoch 59.61 sec\n",
        "\n",
        "Epoch 7 Batch 0 Loss 0.5600\n",
        "Epoch 7 Batch 100 Loss 0.6162\n",
        "Epoch 7 Batch 200 Loss 0.5706\n",
        "Epoch 7 Batch 300 Loss 0.6168\n",
        "Epoch 7 Batch 400 Loss 0.6753\n",
        "Epoch 7 Loss 0.621366\n",
        "Time taken for 1 epoch 58.83 sec\n",
        "\n",
        "Epoch 8 Batch 0 Loss 0.6359\n",
        "Epoch 8 Batch 100 Loss 0.6623\n",
        "Epoch 8 Batch 200 Loss 0.5644\n",
        "Epoch 8 Batch 300 Loss 0.5722\n",
        "Epoch 8 Batch 400 Loss 0.5965\n",
        "Epoch 8 Loss 0.589790\n",
        "Time taken for 1 epoch 59.41 sec\n",
        "\n",
        "Epoch 9 Batch 0 Loss 0.6248\n",
        "Epoch 9 Batch 100 Loss 0.5766\n",
        "Epoch 9 Batch 200 Loss 0.5882\n",
        "Epoch 9 Batch 300 Loss 0.5794\n",
        "Epoch 9 Batch 400 Loss 0.4983\n",
        "Epoch 9 Loss 0.558860\n",
        "Time taken for 1 epoch 59.12 sec\n",
        "\n",
        "Epoch 10 Batch 0 Loss 0.5752\n",
        "Epoch 10 Batch 100 Loss 0.5411\n",
        "Epoch 10 Batch 200 Loss 0.5381\n",
        "Epoch 10 Batch 300 Loss 0.4971\n",
        "Epoch 10 Batch 400 Loss 0.4882\n",
        "Epoch 10 Loss 0.531340\n",
        "Time taken for 1 epoch 60.78 sec\n",
        "\n",
        "Epoch 11 Batch 0 Loss 0.4673\n",
        "Epoch 11 Batch 100 Loss 0.5117\n",
        "Epoch 11 Batch 200 Loss 0.5850\n",
        "Epoch 11 Batch 300 Loss 0.5567\n",
        "Epoch 11 Batch 400 Loss 0.4715\n",
        "Epoch 11 Loss 0.504231\n",
        "Time taken for 1 epoch 59.13 sec\n",
        "\n",
        "Epoch 12 Batch 0 Loss 0.4633\n",
        "Epoch 12 Batch 100 Loss 0.5259\n",
        "Epoch 12 Batch 200 Loss 0.4563\n",
        "Epoch 12 Batch 300 Loss 0.5355\n",
        "Epoch 12 Batch 400 Loss 0.5175\n",
        "Epoch 12 Loss 0.481235\n",
        "Time taken for 1 epoch 60.21 sec\n",
        "\n",
        "Epoch 13 Batch 0 Loss 0.4861\n",
        "Epoch 13 Batch 100 Loss 0.4914\n",
        "Epoch 13 Batch 200 Loss 0.5195\n",
        "Epoch 13 Batch 300 Loss 0.4481\n",
        "Epoch 13 Batch 400 Loss 0.4643\n",
        "Epoch 13 Loss 0.459508\n",
        "Time taken for 1 epoch 61.19 sec\n",
        "\n",
        "Epoch 14 Batch 0 Loss 0.5307\n",
        "Epoch 14 Batch 100 Loss 0.4105\n",
        "Epoch 14 Batch 200 Loss 0.4470\n",
        "Epoch 14 Batch 300 Loss 0.4645\n",
        "Epoch 14 Batch 400 Loss 0.4023\n",
        "Epoch 14 Loss 0.438733\n",
        "Time taken for 1 epoch 60.01 sec\n",
        "\n",
        "Epoch 15 Batch 0 Loss 0.4720\n",
        "Epoch 15 Batch 100 Loss 0.4303\n",
        "Epoch 15 Batch 200 Loss 0.4212\n",
        "Epoch 15 Batch 300 Loss 0.4434\n",
        "Epoch 15 Batch 400 Loss 0.4323\n",
        "Epoch 15 Loss 0.420082\n",
        "Time taken for 1 epoch 59.44 sec\n",
        "\n",
        "Epoch 16 Batch 0 Loss 0.4846\n",
        "Epoch 16 Batch 100 Loss 0.4298\n",
        "Epoch 16 Batch 200 Loss 0.3987\n",
        "Epoch 16 Batch 300 Loss 0.4521\n",
        "Epoch 16 Batch 400 Loss 0.3768\n",
        "Epoch 16 Loss 0.402543\n",
        "Time taken for 1 epoch 58.80 sec\n",
        "\n",
        "Epoch 17 Batch 0 Loss 0.4064\n",
        "Epoch 17 Batch 100 Loss 0.4025\n",
        "Epoch 17 Batch 200 Loss 0.3767\n",
        "Epoch 17 Batch 300 Loss 0.4530\n",
        "Epoch 17 Batch 400 Loss 0.3647\n",
        "Epoch 17 Loss 0.386563\n",
        "Time taken for 1 epoch 59.16 sec\n",
        "\n",
        "Epoch 18 Batch 0 Loss 0.4654\n",
        "Epoch 18 Batch 100 Loss 0.4245\n",
        "Epoch 18 Batch 200 Loss 0.4082\n",
        "Epoch 18 Batch 300 Loss 0.3755\n",
        "Epoch 18 Batch 400 Loss 0.3431\n",
        "Epoch 18 Loss 0.371672\n",
        "Time taken for 1 epoch 59.54 sec\n",
        "\n",
        "Epoch 19 Batch 0 Loss 0.4006\n",
        "Epoch 19 Batch 100 Loss 0.3657\n",
        "Epoch 19 Batch 200 Loss 0.3460\n",
        "Epoch 19 Batch 300 Loss 0.3419\n",
        "Epoch 19 Batch 400 Loss 0.3773\n",
        "Epoch 19 Loss 0.357079\n",
        "Time taken for 1 epoch 60.10 sec\n",
        "\n",
        "Epoch 20 Batch 0 Loss 0.3387\n",
        "Epoch 20 Batch 100 Loss 0.3237\n",
        "Epoch 20 Batch 200 Loss 0.3683\n",
        "Epoch 20 Batch 300 Loss 0.3018\n",
        "Epoch 20 Batch 400 Loss 0.3535\n",
        "Epoch 20 Loss 0.344877\n",
        "Time taken for 1 epoch 59.65 sec\n",
        "\n",
        "Epoch 21 Batch 0 Loss 0.3201\n",
        "Epoch 21 Batch 100 Loss 0.3476\n",
        "Epoch 21 Batch 200 Loss 0.3490\n",
        "Epoch 21 Batch 300 Loss 0.3100\n",
        "Epoch 21 Batch 400 Loss 0.3399\n",
        "Epoch 21 Loss 0.333255\n",
        "Time taken for 1 epoch 59.33 sec\n",
        "\n",
        "Epoch 22 Batch 0 Loss 0.3786\n",
        "Epoch 22 Batch 100 Loss 0.3112\n",
        "Epoch 22 Batch 200 Loss 0.3110\n",
        "Epoch 22 Batch 300 Loss 0.3178\n",
        "Epoch 22 Batch 400 Loss 0.3214\n",
        "Epoch 22 Loss 0.321651\n",
        "Time taken for 1 epoch 59.53 sec\n",
        "\n",
        "Epoch 23 Batch 0 Loss 0.3317\n",
        "Epoch 23 Batch 100 Loss 0.2981\n",
        "Epoch 23 Batch 200 Loss 0.3128\n",
        "Epoch 23 Batch 300 Loss 0.3207\n",
        "Epoch 23 Batch 400 Loss 0.2878\n",
        "Epoch 23 Loss 0.311811\n",
        "Time taken for 1 epoch 58.95 sec\n",
        "\n",
        "Epoch 24 Batch 0 Loss 0.3179\n",
        "Epoch 24 Batch 100 Loss 0.3367\n",
        "Epoch 24 Batch 200 Loss 0.2863\n",
        "Epoch 24 Batch 300 Loss 0.2536\n",
        "Epoch 24 Batch 400 Loss 0.3124\n",
        "Epoch 24 Loss 0.302184\n",
        "Time taken for 1 epoch 59.36 sec\n",
        "\n",
        "Epoch 25 Batch 0 Loss 0.2820\n",
        "Epoch 25 Batch 100 Loss 0.2826\n",
        "Epoch 25 Batch 200 Loss 0.3129\n",
        "Epoch 25 Batch 300 Loss 0.2795\n",
        "Epoch 25 Batch 400 Loss 0.2952\n",
        "Epoch 25 Loss 0.293537\n",
        "Time taken for 1 epoch 60.05 sec\n",
        "\n",
        "Epoch 26 Batch 0 Loss 0.2939\n",
        "Epoch 26 Batch 100 Loss 0.2942\n",
        "Epoch 26 Batch 200 Loss 0.2884\n",
        "Epoch 26 Batch 300 Loss 0.2805\n",
        "Epoch 26 Batch 400 Loss 0.3037\n",
        "Epoch 26 Loss 0.286504\n",
        "Time taken for 1 epoch 60.50 sec\n",
        "\n",
        "Epoch 27 Batch 0 Loss 0.3236\n",
        "Epoch 27 Batch 100 Loss 0.3066\n",
        "Epoch 27 Batch 200 Loss 0.2926\n",
        "Epoch 27 Batch 300 Loss 0.2875\n",
        "Epoch 27 Batch 400 Loss 0.3057\n",
        "Epoch 27 Loss 0.277797\n",
        "Time taken for 1 epoch 59.77 sec\n",
        "\n",
        "Epoch 28 Batch 0 Loss 0.3309\n",
        "Epoch 28 Batch 100 Loss 0.2690\n",
        "Epoch 28 Batch 200 Loss 0.2794\n",
        "Epoch 28 Batch 300 Loss 0.2705\n",
        "Epoch 28 Batch 400 Loss 0.2624\n",
        "Epoch 28 Loss 0.271599\n",
        "Time taken for 1 epoch 60.79 sec\n",
        "\n",
        "Epoch 29 Batch 0 Loss 0.3543\n",
        "Epoch 29 Batch 100 Loss 0.2879\n",
        "Epoch 29 Batch 200 Loss 0.2659\n",
        "Epoch 29 Batch 300 Loss 0.2724\n",
        "Epoch 29 Batch 400 Loss 0.2478\n",
        "Epoch 29 Loss 0.266724\n",
        "Time taken for 1 epoch 59.27 sec\n",
        "\n",
        "Epoch 30 Batch 0 Loss 0.2633\n",
        "Epoch 30 Batch 100 Loss 0.2772\n",
        "Epoch 30 Batch 200 Loss 0.2459\n",
        "Epoch 30 Batch 300 Loss 0.2463\n",
        "Epoch 30 Batch 400 Loss 0.2215\n",
        "Epoch 30 Loss 0.259850\n",
        "Time taken for 1 epoch 60.31 sec\n",
        "\n",
        "Epoch 31 Batch 0 Loss 0.2540\n",
        "Epoch 31 Batch 100 Loss 0.2552\n",
        "Epoch 31 Batch 200 Loss 0.2436\n",
        "Epoch 31 Batch 300 Loss 0.2321\n",
        "Epoch 31 Batch 400 Loss 0.2459\n",
        "Epoch 31 Loss 0.253125\n",
        "Time taken for 1 epoch 59.55 sec\n",
        "\n",
        "Epoch 32 Batch 0 Loss 0.2794\n",
        "Epoch 32 Batch 100 Loss 0.2454\n",
        "Epoch 32 Batch 200 Loss 0.2665\n",
        "Epoch 32 Batch 300 Loss 0.2508\n",
        "Epoch 32 Batch 400 Loss 0.2394\n",
        "Epoch 32 Loss 0.249277\n",
        "Time taken for 1 epoch 60.29 sec\n",
        "\n",
        "Epoch 33 Batch 0 Loss 0.2836\n",
        "Epoch 33 Batch 100 Loss 0.2415\n",
        "Epoch 33 Batch 200 Loss 0.2423\n",
        "Epoch 33 Batch 300 Loss 0.2175\n",
        "Epoch 33 Batch 400 Loss 0.2636\n",
        "Epoch 33 Loss 0.243931\n",
        "Time taken for 1 epoch 61.77 sec\n",
        "\n",
        "Epoch 34 Batch 0 Loss 0.2450\n",
        "Epoch 34 Batch 100 Loss 0.2431\n",
        "Epoch 34 Batch 200 Loss 0.2421\n",
        "Epoch 34 Batch 300 Loss 0.2538\n",
        "Epoch 34 Batch 400 Loss 0.2211\n",
        "Epoch 34 Loss 0.240226\n",
        "Time taken for 1 epoch 62.45 sec\n",
        "\n",
        "Epoch 35 Batch 0 Loss 0.2636\n",
        "Epoch 35 Batch 100 Loss 0.2263\n",
        "Epoch 35 Batch 200 Loss 0.2358\n",
        "Epoch 35 Batch 300 Loss 0.2162\n",
        "Epoch 35 Batch 400 Loss 0.2233\n",
        "Epoch 35 Loss 0.236177\n",
        "Time taken for 1 epoch 60.35 sec\n",
        "\n",
        "Epoch 36 Batch 0 Loss 0.2825\n",
        "Epoch 36 Batch 100 Loss 0.2048\n",
        "Epoch 36 Batch 200 Loss 0.2211\n",
        "Epoch 36 Batch 300 Loss 0.2395\n",
        "Epoch 36 Batch 400 Loss 0.2079\n",
        "Epoch 36 Loss 0.232157\n",
        "Time taken for 1 epoch 61.27 sec\n",
        "\n",
        "Epoch 37 Batch 0 Loss 0.2881\n",
        "Epoch 37 Batch 100 Loss 0.2435\n",
        "Epoch 37 Batch 200 Loss 0.2288\n",
        "Epoch 37 Batch 300 Loss 0.2109\n",
        "Epoch 37 Batch 400 Loss 0.2133\n",
        "Epoch 37 Loss 0.233673\n",
        "Time taken for 1 epoch 61.17 sec\n",
        "\n",
        "Epoch 38 Batch 0 Loss 0.2618\n",
        "Epoch 38 Batch 100 Loss 0.2391\n",
        "Epoch 38 Batch 200 Loss 0.2212\n",
        "Epoch 38 Batch 300 Loss 0.2574\n",
        "Epoch 38 Batch 400 Loss 0.2228\n",
        "Epoch 38 Loss 0.225798\n",
        "Time taken for 1 epoch 60.44 sec\n",
        "\n",
        "Epoch 39 Batch 0 Loss 0.2411\n",
        "Epoch 39 Batch 100 Loss 0.2337\n",
        "Epoch 39 Batch 200 Loss 0.1941\n",
        "Epoch 39 Batch 300 Loss 0.2055\n",
        "Epoch 39 Batch 400 Loss 0.2452\n",
        "Epoch 39 Loss 0.222167\n",
        "Time taken for 1 epoch 61.06 sec\n",
        "\n",
        "Epoch 40 Batch 0 Loss 0.2440\n",
        "Epoch 40 Batch 100 Loss 0.2157\n",
        "Epoch 40 Batch 200 Loss 0.2356\n",
        "Epoch 40 Batch 300 Loss 0.2007\n",
        "Epoch 40 Batch 400 Loss 0.1991\n",
        "Epoch 40 Loss 0.218552\n",
        "Time taken for 1 epoch 61.22 sec\n",
        "\n",
        "Epoch 41 Batch 0 Loss 0.2601\n",
        "Epoch 41 Batch 100 Loss 0.2029\n",
        "Epoch 41 Batch 200 Loss 0.2147\n",
        "Epoch 41 Batch 300 Loss 0.2009\n",
        "Epoch 41 Batch 400 Loss 0.2175\n",
        "Epoch 41 Loss 0.217059\n",
        "Time taken for 1 epoch 60.12 sec\n",
        "\n",
        "Epoch 42 Batch 0 Loss 0.2506\n",
        "Epoch 42 Batch 100 Loss 0.2103\n",
        "Epoch 42 Batch 200 Loss 0.2285\n",
        "Epoch 42 Batch 300 Loss 0.2150\n",
        "Epoch 42 Batch 400 Loss 0.2245\n",
        "Epoch 42 Loss 0.215526\n",
        "Time taken for 1 epoch 60.87 sec\n",
        "\n",
        "Epoch 43 Batch 0 Loss 0.2227\n",
        "Epoch 43 Batch 100 Loss 0.2452\n",
        "Epoch 43 Batch 200 Loss 0.2127\n",
        "Epoch 43 Batch 300 Loss 0.2174\n",
        "Epoch 43 Batch 400 Loss 0.1913\n",
        "Epoch 43 Loss 0.211272\n",
        "Time taken for 1 epoch 60.96 sec\n",
        "\n",
        "Epoch 44 Batch 0 Loss 0.2571\n",
        "Epoch 44 Batch 100 Loss 0.2391\n",
        "Epoch 44 Batch 200 Loss 0.2072\n",
        "Epoch 44 Batch 300 Loss 0.2011\n",
        "Epoch 44 Batch 400 Loss 0.2187\n",
        "Epoch 44 Loss 0.209927\n",
        "Time taken for 1 epoch 59.47 sec\n",
        "\n",
        "Epoch 45 Batch 0 Loss 0.2390\n",
        "Epoch 45 Batch 100 Loss 0.2062\n",
        "Epoch 45 Batch 200 Loss 0.2248\n",
        "Epoch 45 Batch 300 Loss 0.2163\n",
        "Epoch 45 Batch 400 Loss 0.2254\n",
        "Epoch 45 Loss 0.208502\n",
        "Time taken for 1 epoch 59.91 sec\n",
        "\n",
        "Epoch 46 Batch 0 Loss 0.2221\n",
        "Epoch 46 Batch 100 Loss 0.2033\n",
        "Epoch 46 Batch 200 Loss 0.1966\n",
        "Epoch 46 Batch 300 Loss 0.1996\n",
        "Epoch 46 Batch 400 Loss 0.2041\n",
        "Epoch 46 Loss 0.206561\n",
        "Time taken for 1 epoch 60.72 sec\n",
        "\n",
        "Epoch 47 Batch 0 Loss 0.2304\n",
        "Epoch 47 Batch 100 Loss 0.1903\n",
        "Epoch 47 Batch 200 Loss 0.1740\n",
        "Epoch 47 Batch 300 Loss 0.2033\n",
        "Epoch 47 Batch 400 Loss 0.2079\n",
        "Epoch 47 Loss 0.203235\n",
        "Time taken for 1 epoch 60.13 sec\n",
        "\n",
        "Epoch 48 Batch 0 Loss 0.2408\n",
        "Epoch 48 Batch 100 Loss 0.1975\n",
        "Epoch 48 Batch 200 Loss 0.1864\n",
        "Epoch 48 Batch 300 Loss 0.2042\n",
        "Epoch 48 Batch 400 Loss 0.1992\n",
        "Epoch 48 Loss 0.199724\n",
        "Time taken for 1 epoch 61.13 sec\n",
        "\n",
        "Epoch 49 Batch 0 Loss 0.2130\n",
        "Epoch 49 Batch 100 Loss 0.2173\n",
        "Epoch 49 Batch 200 Loss 0.2039\n",
        "Epoch 49 Batch 300 Loss 0.1912\n",
        "Epoch 49 Batch 400 Loss 0.1872\n",
        "Epoch 49 Loss 0.198546\n",
        "Time taken for 1 epoch 60.83 sec\n",
        "\n",
        "Epoch 50 Batch 0 Loss 0.2460\n",
        "Epoch 50 Batch 100 Loss 0.2053\n",
        "Epoch 50 Batch 200 Loss 0.2131\n",
        "Epoch 50 Batch 300 Loss 0.1848\n",
        "Epoch 50 Batch 400 Loss 0.2078\n",
        "Epoch 50 Loss 0.198761\n",
        "Time taken for 1 epoch 60.83 sec\n"
      ],
      "metadata": {
        "id": "28OkCKsINg4h"
      }
    },
    {
      "cell_type": "markdown",
      "source": [
        "# Prediction\n"
      ],
      "metadata": {
        "id": "02CgZmj_AwAA"
      }
    },
    {
      "cell_type": "code",
      "source": [
        "def evaluate(image, max_length):\n",
        "    attention_plot = np.zeros((max_length, attention_features_shape))\n",
        "\n",
        "    hidden = decoder.reset_state(batch_size=1)\n",
        "\n",
        "    temp_input = tf.expand_dims(load_image(image)[0], 0)\n",
        "    img_tensor_val = image_features_extract_model(temp_input)\n",
        "    img_tensor_val = tf.reshape(img_tensor_val, (img_tensor_val.shape[0],\n",
        "                                                 -1,\n",
        "                                                 img_tensor_val.shape[3]))\n",
        "\n",
        "    features = encoder(img_tensor_val)\n",
        "\n",
        "    dec_input = tf.expand_dims([tokenizer.word_index['startseq']], 0)\n",
        "    result = []\n",
        "\n",
        "    for i in range(max_length):\n",
        "        predictions, hidden, attention_weights = decoder(dec_input,\n",
        "                                                         features,\n",
        "                                                         hidden)\n",
        "\n",
        "        attention_plot[i] = tf.reshape(attention_weights, (-1, )).numpy()\n",
        "\n",
        "        predicted_id = tf.random.categorical(predictions, 1)[0][0].numpy()\n",
        "        result.append(tokenizer.index_word[predicted_id])\n",
        "\n",
        "        if tokenizer.index_word[predicted_id] == 'endseq':\n",
        "            return result, attention_plot\n",
        "\n",
        "        dec_input = tf.expand_dims([predicted_id], 0)\n",
        "\n",
        "    attention_plot = attention_plot[:len(result), :]\n",
        "    return result, attention_plot"
      ],
      "metadata": {
        "id": "jTOj0NMS_KsJ"
      },
      "execution_count": 28,
      "outputs": []
    },
    {
      "cell_type": "code",
      "source": [
        "def check_test(test_image_names, image_dict, image_dir, max_caption_words):\n",
        "  # captions on the validation set\n",
        "  rid = np.random.randint(0, len(test_image_names))\n",
        "  image_name = test_image_names[rid]\n",
        "  real_caption = image_dict[image_name]\n",
        "\n",
        "  image_path = image_dir + image_name + '.jpg'\n",
        "  result, attention_plot = evaluate(image_path, max_caption_words)\n",
        "\n",
        "  from IPython.display import Image, display\n",
        "  display(Image(image_path))\n",
        "  print('Real Caption:', real_caption)\n",
        "  print('Prediction Caption:', ' '.join(result))"
      ],
      "metadata": {
        "id": "FrIC-yxo_WKg"
      },
      "execution_count": 35,
      "outputs": []
    },
    {
      "cell_type": "code",
      "source": [
        "test_image_name_file = \"/content/Flickr_8k.testImages.txt\"\n",
        "test_image_names = subset_image_name (test_image_name_file)\n",
        "image_dir = \"/content/Flicker8k_Dataset/\"\n",
        "check_test(list(test_image_names), image_dict, image_dir, max_caption_words)"
      ],
      "metadata": {
        "colab": {
          "base_uri": "https://localhost:8080/",
          "height": 572
        },
        "id": "TMF4fTM9_Wd0",
        "outputId": "85ce3ddd-e44d-4fcf-9b15-0a71273d5563"
      },
      "execution_count": 47,
      "outputs": [
        {
          "output_type": "display_data",
          "data": {
            "image/jpeg": "[encoded data removed]",
            "text/plain": [
              "<IPython.core.display.Image object>"
            ]
          },
          "metadata": {}
        },
        {
          "output_type": "stream",
          "name": "stdout",
          "text": [
            "Real Caption: ['boy is making splash in swimming pool', 'child is splashed by water in an indoor swimming pool', 'little boy is jumping out of the pool', 'redheaded boy has just come up from under the water in pool', 'young boy playing in swimming pool']\n",
            "Prediction Caption: child plays in the water endseq\n"
          ]
        }
      ]
    },
    {
      "cell_type": "code",
      "source": [],
      "metadata": {
        "id": "hJms6tfv_ZXx"
      },
      "execution_count": 40,
      "outputs": []
    }
  ]
}